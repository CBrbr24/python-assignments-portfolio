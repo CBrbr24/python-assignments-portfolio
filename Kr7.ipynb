{
 "cells": [
  {
   "metadata": {
    "ExecuteTime": {
     "end_time": "2025-03-04T21:58:37.971469Z",
     "start_time": "2025-03-04T21:58:37.964806Z"
    }
   },
   "cell_type": "code",
   "source": [
    "import numpy as np\n",
    "from scipy.special import gamma\n",
    "def t_distribution_pdf(x, nu):\n",
    "\n",
    " coeff = gamma((nu + 1) / 2) / (np.sqrt(nu * np.pi) * gamma(nu / 2))\n",
    " density = coeff * (1 + x**2 / nu) ** (-0.5 * (nu + 1))\n",
    " \n",
    " return density\n",
    "\n",
    "print(t_distribution_pdf(2,3))\n",
    "\n",
    "\n",
    "\n",
    "print(\"test\")\n",
    "\n",
    "\n",
    "\n",
    "\n",
    "\n",
    "\n",
    "\n",
    "datagiven = [92.64,79.00,84.79,97.41,93.68,65.23,84.50,73.49,73.97,79.11]\n",
    "\n",
    "def meanandstd(data):\n",
    "    #mean calculation\n",
    "    n = len(data)\n",
    "    total = 0\n",
    "    \n",
    "    for value in data:\n",
    "        total += value\n",
    "        \n",
    "    mean = total/n\n",
    "    \n",
    "    \n",
    "   #standard deviation calculation\n",
    "    square = 0\n",
    "    for value in data:\n",
    "        square = square + (value-mean) ** 2\n",
    "    \n",
    "    deviation = (square/n)**0.5  \n",
    "    \n",
    "    \n",
    "    return mean, deviation\n",
    "\n",
    "\n",
    "\n",
    "def findtzero (mean, deviation, data):\n",
    "    tzero = (mean - mean)/(deviation/(np.sqrt(len(data))))\n",
    "    return tzero\n",
    "\n",
    "\n",
    "def find_t_star(prob, nu, x_start=0, x_end=20, num_points=10000):\n",
    " \n",
    " x = np.linspace(x_start, x_end, num_points)\n",
    " \n",
    " \n",
    " y = t_distribution_pdf(x, nu)\n",
    " \n",
    " \n",
    " cdf = np.cumsum(y) * (x[1]- x[0])\n",
    " \n",
    " \n",
    " target_half_prob = prob / 2\n",
    " index = np.where(cdf >= target_half_prob)[0][0]\n",
    " return x[index]\n",
    "\n",
    "\n",
    "def ttrue (prob, nu, data, mean, deviation):\n",
    "    tstar = find_t_star(prob, nu, x_start=0, x_end=20, num_points=10000)\n",
    "    \n",
    "    tzero = findtzero (mean, deviation, data)\n",
    "    \n",
    "    if (-1*tstar) <= tzero <= tstar:\n",
    "        return True\n",
    "    else:\n",
    "        return False\n",
    "    \n",
    "\n",
    "\n",
    "\n",
    "\n",
    "\n"
   ],
   "id": "1d33d8b236dc30a0",
   "outputs": [
    {
     "name": "stdout",
     "output_type": "stream",
     "text": [
      "0.06750966066389293\n",
      "test\n"
     ]
    }
   ],
   "execution_count": 10
  }
 ],
 "metadata": {
  "kernelspec": {
   "display_name": "Python 3",
   "language": "python",
   "name": "python3"
  },
  "language_info": {
   "codemirror_mode": {
    "name": "ipython",
    "version": 2
   },
   "file_extension": ".py",
   "mimetype": "text/x-python",
   "name": "python",
   "nbconvert_exporter": "python",
   "pygments_lexer": "ipython2",
   "version": "2.7.6"
  }
 },
 "nbformat": 4,
 "nbformat_minor": 5
}
